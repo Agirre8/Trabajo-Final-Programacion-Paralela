{
 "cells": [
  {
   "cell_type": "code",
   "execution_count": 145,
   "metadata": {},
   "outputs": [],
   "source": [
    "import dask.dataframe as dd\n",
    "import  numpy as np"
   ]
  },
  {
   "cell_type": "code",
   "execution_count": 146,
   "metadata": {},
   "outputs": [
    {
     "name": "stdout",
     "output_type": "stream",
     "text": [
      "   Activity Period Operating Airline Operating Airline IATA Code  \\\n",
      "0           200507      ATA Airlines                          TZ   \n",
      "1           200507      ATA Airlines                          TZ   \n",
      "2           200507      ATA Airlines                          TZ   \n",
      "3           200507       Air Canada                           AC   \n",
      "4           200507       Air Canada                           AC   \n",
      "\n",
      "  Published Airline Published Airline IATA Code    GEO Summary GEO Region  \\\n",
      "0      ATA Airlines                          TZ       Domestic         US   \n",
      "1      ATA Airlines                          TZ       Domestic         US   \n",
      "2      ATA Airlines                          TZ       Domestic         US   \n",
      "3       Air Canada                           AC  International     Canada   \n",
      "4       Air Canada                           AC  International     Canada   \n",
      "\n",
      "  Activity Type Code Price Category Code    Terminal Boarding Area  \\\n",
      "0           Deplaned            Low Fare  Terminal 1             B   \n",
      "1           Enplaned            Low Fare  Terminal 1             B   \n",
      "2     Thru / Transit            Low Fare  Terminal 1             B   \n",
      "3           Deplaned               Other  Terminal 1             B   \n",
      "4           Enplaned               Other  Terminal 1             B   \n",
      "\n",
      "   Passenger Count Adjusted Activity Type Code  Adjusted Passenger Count  \\\n",
      "0            27271                    Deplaned                     27271   \n",
      "1            29131                    Enplaned                     29131   \n",
      "2             5415          Thru / Transit * 2                     10830   \n",
      "3            35156                    Deplaned                     35156   \n",
      "4            34090                    Enplaned                     34090   \n",
      "\n",
      "   Year Month  \n",
      "0  2005  July  \n",
      "1  2005  July  \n",
      "2  2005  July  \n",
      "3  2005  July  \n",
      "4  2005  July  \n"
     ]
    }
   ],
   "source": [
    "df = dd.read_csv(\"DATOS/air_traffic_data.csv\")\n",
    "df\n",
    "#Información de cada columna\n",
    "print(df.head())"
   ]
  },
  {
   "cell_type": "code",
   "execution_count": 147,
   "metadata": {},
   "outputs": [
    {
     "name": "stdout",
     "output_type": "stream",
     "text": [
      "   Activity Period Operating Airline Published Airline    GEO Summary  \\\n",
      "0           200507      ATA Airlines      ATA Airlines       Domestic   \n",
      "1           200507      ATA Airlines      ATA Airlines       Domestic   \n",
      "2           200507      ATA Airlines      ATA Airlines       Domestic   \n",
      "3           200507       Air Canada        Air Canada   International   \n",
      "4           200507       Air Canada        Air Canada   International   \n",
      "5           200507         Air China         Air China  International   \n",
      "6           200507         Air China         Air China  International   \n",
      "7           200507        Air France        Air France  International   \n",
      "8           200507        Air France        Air France  International   \n",
      "9           200507   Air New Zealand   Air New Zealand  International   \n",
      "\n",
      "            GEO Region Price Category Code       Terminal Boarding Area  \\\n",
      "0                   US            Low Fare     Terminal 1             B   \n",
      "1                   US            Low Fare     Terminal 1             B   \n",
      "2                   US            Low Fare     Terminal 1             B   \n",
      "3               Canada               Other     Terminal 1             B   \n",
      "4               Canada               Other     Terminal 1             B   \n",
      "5                 Asia               Other  International             G   \n",
      "6                 Asia               Other  International             G   \n",
      "7               Europe               Other  International             A   \n",
      "8               Europe               Other  International             A   \n",
      "9  Australia / Oceania               Other  International             G   \n",
      "\n",
      "   Passenger Count  Adjusted Passenger Count  Year Month  \n",
      "0            27271                     27271  2005  July  \n",
      "1            29131                     29131  2005  July  \n",
      "2             5415                     10830  2005  July  \n",
      "3            35156                     35156  2005  July  \n",
      "4            34090                     34090  2005  July  \n",
      "5             6263                      6263  2005  July  \n",
      "6             5500                      5500  2005  July  \n",
      "7            12050                     12050  2005  July  \n",
      "8            11638                     11638  2005  July  \n",
      "9             4998                      4998  2005  July  \n"
     ]
    }
   ],
   "source": [
    "#Quitamos las columnas innecesarias para el estudio de datos\n",
    "\n",
    "columnas_innecesarias = [\"Adjusted Activity Type Code\", \"Operating Airline IATA Code\", \"Published Airline IATA Code\", \"Activity Type Code\"]\n",
    "\n",
    "# Elimina las columnas innecesarias\n",
    "df = df.drop(columnas_innecesarias, axis=1)\n",
    "print(df.head(10))\n"
   ]
  },
  {
   "cell_type": "code",
   "execution_count": 148,
   "metadata": {},
   "outputs": [
    {
     "name": "stdout",
     "output_type": "stream",
     "text": [
      "En 920 casos hay diferencias entre las 2 columnas\n"
     ]
    }
   ],
   "source": [
    "#Compruebo si la columna Passenger Count y Adjusted Passenger Count tienen los mismos valores, y no, en 920 ocasiones no tienen los mismos valores las dos columnas\n",
    "\n",
    "comparacion = df[\"Adjusted Passenger Count\"].eq(df[\"Passenger Count\"])\n",
    "\n",
    "# sumamos la cantidad de valores false\n",
    "cantidad_false = (~comparacion).sum().compute()\n",
    "print(f\"En {cantidad_false} casos hay diferencias entre las 2 columnas\")\n",
    "\n"
   ]
  },
  {
   "cell_type": "code",
   "execution_count": 149,
   "metadata": {},
   "outputs": [],
   "source": [
    "#920 casos de 15000 no es muy significativo, un 6,13% de imprecision en la columna \"Passenger count\" que puedo permitir cometer\n",
    "df = df.drop(\"Adjusted Passenger Count\", axis=1)\n"
   ]
  },
  {
   "cell_type": "code",
   "execution_count": 150,
   "metadata": {},
   "outputs": [
    {
     "name": "stdout",
     "output_type": "stream",
     "text": [
      "En 1602 casos hay diferencias entre las 2 columnas\n"
     ]
    }
   ],
   "source": [
    "\n",
    "comparacion = df[\"Operating Airline\"].eq(df[\"Published Airline\"])\n",
    "\n",
    "# sumamos la cantidad de valores false\n",
    "cantidad_false = (~comparacion).sum().compute()\n",
    "print(f\"En {cantidad_false} casos hay diferencias entre las 2 columnas\")\n"
   ]
  },
  {
   "cell_type": "code",
   "execution_count": 151,
   "metadata": {},
   "outputs": [],
   "source": [
    "#1602 casos de 15000 no es muy significativo, un 10.68%. de imprecision en la columna \"Published Airline\" que puedo permitir cometer\n",
    "df = df.drop(\"Published Airline\", axis=1)"
   ]
  },
  {
   "cell_type": "code",
   "execution_count": 152,
   "metadata": {},
   "outputs": [
    {
     "name": "stdout",
     "output_type": "stream",
     "text": [
      "{'ATA Airlines': 0, 'Air Canada ': 1, 'Air China': 2, 'Air France': 3, 'Air New Zealand': 4, 'AirTran Airways': 5, 'Alaska Airlines': 6, 'All Nippon Airways': 7, 'American Airlines': 8, 'American Eagle Airlines': 9, 'Asiana Airlines': 10, 'Atlantic Southeast Airlines': 11, 'BelAir Airlines': 12, 'British Airways': 13, 'Cathay Pacific': 14, 'China Airlines': 15, 'Delta Air Lines': 16, 'EVA Airways': 17, 'Frontier Airlines': 18, 'Hawaiian Airlines': 19, 'Horizon Air ': 20, 'Icelandair': 21, 'Independence Air': 22, 'Japan Airlines': 23, 'KLM Royal Dutch Airlines': 24, 'Korean Air Lines': 25, 'Lufthansa German Airlines': 26, 'Mesa Airlines': 27, 'Mexicana Airlines': 28, 'Midwest Airlines': 29, 'Northwest Airlines': 30, 'Philippine Airlines': 31, 'Singapore Airlines': 32, 'SkyWest Airlines': 33, 'Sun Country Airlines': 34, 'TACA': 35, 'US Airways': 36, 'United Airlines': 37, 'United Airlines - Pre 07/01/2013': 38, 'Virgin Atlantic': 39, 'WestJet Airlines': 40, 'Boeing Company': 41, 'Miami Air International': 42, 'Air Canada Jazz': 43, 'Qantas Airways': 44, 'Ameriflight': 45, 'Spirit Airlines': 46, 'Xtra Airways': 47, 'Evergreen International Airlines': 48, 'Aeromexico': 49, 'JetBlue Airways ': 50, 'ExpressJet Airlines': 51, 'Southwest Airlines': 52, 'Virgin America': 53, 'Aer Lingus': 54, 'Allegiant Air': 55, 'Jet Airways': 56, 'Emirates ': 57, 'Mesaba Airlines': 58, 'World Airways': 59, 'Air Berlin': 60, 'Republic Airlines': 61, 'Servisair': 62, 'Pacific Aviation': 63, 'Swiss International': 64, 'LAN Peru': 65, 'Swissport USA': 66, 'XL Airways France': 67, 'China Eastern': 68, 'SAS Airlines': 69, 'Atlas Air, Inc': 70, 'Compass Airlines': 71, 'Etihad Airways': 72, 'China Southern': 73, 'Turkish Airlines': 74, 'COPA Airlines, Inc.': 75, 'Air India Limited': 76}\n"
     ]
    }
   ],
   "source": [
    "import dask.dataframe as dd\n",
    "\n",
    "#calculo los valores unicos de la columna\n",
    "valores_unicos = df[\"Operating Airline\"].unique().compute()\n",
    "\n",
    "#asigno un valor unico a cada object diferente\n",
    "valor_entero = np.arange(len(valores_unicos))\n",
    "valor_dict = dict(zip(valores_unicos, valor_entero))\n",
    "\n",
    "#modifico la columna antigua con los nuevos valores\n",
    "df[\"Operating Airline\"] = df[\"Operating Airline\"].map(lambda x: valor_dict.get(x, np.nan), meta=(\"Operating Airline\", 'int64'))\n",
    "print(valor_dict)\n",
    "\n"
   ]
  },
  {
   "cell_type": "code",
   "execution_count": 153,
   "metadata": {},
   "outputs": [
    {
     "name": "stdout",
     "output_type": "stream",
     "text": [
      "       Activity Period  Operating Airline  GEO Summary GEO Region  \\\n",
      "0               200507                  0            0         US   \n",
      "1               200507                  0            0         US   \n",
      "2               200507                  0            0         US   \n",
      "3               200507                  1            1     Canada   \n",
      "4               200507                  1            1     Canada   \n",
      "...                ...                ...          ...        ...   \n",
      "15002           201603                 53            0         US   \n",
      "15003           201603                 53            1     Mexico   \n",
      "15004           201603                 53            1     Mexico   \n",
      "15005           201603                 39            1     Europe   \n",
      "15006           201603                 39            1     Europe   \n",
      "\n",
      "      Price Category Code       Terminal Boarding Area  Passenger Count  Year  \\\n",
      "0                Low Fare     Terminal 1             B            27271  2005   \n",
      "1                Low Fare     Terminal 1             B            29131  2005   \n",
      "2                Low Fare     Terminal 1             B             5415  2005   \n",
      "3                   Other     Terminal 1             B            35156  2005   \n",
      "4                   Other     Terminal 1             B            34090  2005   \n",
      "...                   ...            ...           ...              ...   ...   \n",
      "15002            Low Fare     Terminal 2             D           194636  2016   \n",
      "15003            Low Fare  International             A             4189  2016   \n",
      "15004            Low Fare     Terminal 2             D             4693  2016   \n",
      "15005               Other  International             A            12313  2016   \n",
      "15006               Other  International             A            10898  2016   \n",
      "\n",
      "       Month  \n",
      "0       July  \n",
      "1       July  \n",
      "2       July  \n",
      "3       July  \n",
      "4       July  \n",
      "...      ...  \n",
      "15002  March  \n",
      "15003  March  \n",
      "15004  March  \n",
      "15005  March  \n",
      "15006  March  \n",
      "\n",
      "[15007 rows x 10 columns]\n"
     ]
    }
   ],
   "source": [
    "\n",
    "#imprimo los valores unicos de la columna para saber que tengo que reemplazar por valores int\n",
    "valores_unicos = df[\"GEO Summary\"].unique().compute()\n",
    "#genera un array NumPy con valores enteros en un rango que va desde 0 hasta la longitud de la lista valores_a_reemplazar. Estos valores enteros serán los nuevos valores a asignar\n",
    "valores_a_reemplazar = [\"Domestic\", \"International\"]\n",
    "valores_nuevos = np.arange(len(valores_a_reemplazar), dtype=np.int64)\n",
    "#crea un diccionario que mapea cada valor a reemplazar con su respectivo valor nuevo, la funcion zip() combina los elementos de las dos listas en pares clave-valor, y la función dict() crea un diccionario a partir de esos pares.\n",
    "mapping_dict_Geo_Summary = dict(zip(valores_a_reemplazar, valores_nuevos))\n",
    "\n",
    "df[\"GEO Summary\"] = df[\"GEO Summary\"].map(mapping_dict_Geo_Summary)\n",
    "\n",
    "df[\"GEO Summary\"] = df[\"GEO Summary\"].astype(np.int64)\n",
    "\n",
    "resultado = df.compute()\n",
    "print(resultado)\n"
   ]
  },
  {
   "cell_type": "code",
   "execution_count": 154,
   "metadata": {},
   "outputs": [
    {
     "name": "stdout",
     "output_type": "stream",
     "text": [
      "       Activity Period  Operating Airline  GEO Summary  GEO Region  \\\n",
      "0               200507                  0            0           0   \n",
      "1               200507                  0            0           0   \n",
      "2               200507                  0            0           0   \n",
      "3               200507                  1            1           1   \n",
      "4               200507                  1            1           1   \n",
      "...                ...                ...          ...         ...   \n",
      "15002           201603                 53            0           0   \n",
      "15003           201603                 53            1           5   \n",
      "15004           201603                 53            1           5   \n",
      "15005           201603                 39            1           3   \n",
      "15006           201603                 39            1           3   \n",
      "\n",
      "      Price Category Code       Terminal Boarding Area  Passenger Count  Year  \\\n",
      "0                Low Fare     Terminal 1             B            27271  2005   \n",
      "1                Low Fare     Terminal 1             B            29131  2005   \n",
      "2                Low Fare     Terminal 1             B             5415  2005   \n",
      "3                   Other     Terminal 1             B            35156  2005   \n",
      "4                   Other     Terminal 1             B            34090  2005   \n",
      "...                   ...            ...           ...              ...   ...   \n",
      "15002            Low Fare     Terminal 2             D           194636  2016   \n",
      "15003            Low Fare  International             A             4189  2016   \n",
      "15004            Low Fare     Terminal 2             D             4693  2016   \n",
      "15005               Other  International             A            12313  2016   \n",
      "15006               Other  International             A            10898  2016   \n",
      "\n",
      "       Month  \n",
      "0       July  \n",
      "1       July  \n",
      "2       July  \n",
      "3       July  \n",
      "4       July  \n",
      "...      ...  \n",
      "15002  March  \n",
      "15003  March  \n",
      "15004  March  \n",
      "15005  March  \n",
      "15006  March  \n",
      "\n",
      "[15007 rows x 10 columns]\n",
      "{'January': 0, 'February': 1, 'March': 2, 'April': 3, 'May': 4, 'June': 5, 'July': 6, 'August': 7, 'September': 8, 'October': 9, 'November': 10, 'December': 11}\n"
     ]
    }
   ],
   "source": [
    "#hago lo mismo que con la columna \"GEO Summary\"\n",
    "valores_unicos = df[\"GEO Region\"].unique().compute()\n",
    "\n",
    "valores_a_reemplazar = [\"US\", \"Canada\", \"Asia\", \"Europe\", \"Australia / Oceania\", \"Mexico\", \"Central America\", \"Middle East\", \"South America\"]\n",
    "valores_nuevos = np.arange(len(valores_a_reemplazar), dtype=np.int64)\n",
    "\n",
    "mapping_dict_Geo_Region = dict(zip(valores_a_reemplazar, valores_nuevos))\n",
    "\n",
    "df[\"GEO Region\"] = df[\"GEO Region\"].map(mapping_dict_Geo_Region)\n",
    "\n",
    "df[\"GEO Region\"] = df[\"GEO Region\"].astype(np.int64)\n",
    "\n",
    "resultado = df.compute()\n",
    "print(resultado)\n",
    "print(mapping_dict)\n",
    "\n"
   ]
  },
  {
   "cell_type": "code",
   "execution_count": 155,
   "metadata": {},
   "outputs": [
    {
     "name": "stdout",
     "output_type": "stream",
     "text": [
      "       Activity Period  Operating Airline  GEO Summary  GEO Region  \\\n",
      "0               200507                  0            0           0   \n",
      "1               200507                  0            0           0   \n",
      "2               200507                  0            0           0   \n",
      "3               200507                  1            1           1   \n",
      "4               200507                  1            1           1   \n",
      "...                ...                ...          ...         ...   \n",
      "15002           201603                 53            0           0   \n",
      "15003           201603                 53            1           5   \n",
      "15004           201603                 53            1           5   \n",
      "15005           201603                 39            1           3   \n",
      "15006           201603                 39            1           3   \n",
      "\n",
      "       Price Category Code       Terminal Boarding Area  Passenger Count  \\\n",
      "0                        0     Terminal 1             B            27271   \n",
      "1                        0     Terminal 1             B            29131   \n",
      "2                        0     Terminal 1             B             5415   \n",
      "3                        1     Terminal 1             B            35156   \n",
      "4                        1     Terminal 1             B            34090   \n",
      "...                    ...            ...           ...              ...   \n",
      "15002                    0     Terminal 2             D           194636   \n",
      "15003                    0  International             A             4189   \n",
      "15004                    0     Terminal 2             D             4693   \n",
      "15005                    1  International             A            12313   \n",
      "15006                    1  International             A            10898   \n",
      "\n",
      "       Year  Month  \n",
      "0      2005   July  \n",
      "1      2005   July  \n",
      "2      2005   July  \n",
      "3      2005   July  \n",
      "4      2005   July  \n",
      "...     ...    ...  \n",
      "15002  2016  March  \n",
      "15003  2016  March  \n",
      "15004  2016  March  \n",
      "15005  2016  March  \n",
      "15006  2016  March  \n",
      "\n",
      "[15007 rows x 10 columns]\n"
     ]
    }
   ],
   "source": [
    "#hago lo mismo que con la columna \"GEO Summary\"\n",
    "valores_unicos = df[\"Price Category Code\"].unique().compute()\n",
    "\n",
    "valores_a_reemplazar = [\"Low Fare\", \"Other\"]\n",
    "valores_nuevos = np.arange(len(valores_a_reemplazar), dtype=np.int64)\n",
    "\n",
    "mapping_dict_Price_Category_Code = dict(zip(valores_a_reemplazar, valores_nuevos))\n",
    "\n",
    "df[\"Price Category Code\"] = df[\"Price Category Code\"].map(mapping_dict_Price_Category_Code)\n",
    "\n",
    "df[\"Price Category Code\"] = df[\"Price Category Code\"].astype(np.int64)\n",
    "\n",
    "resultado = df.compute()\n",
    "print(resultado)"
   ]
  },
  {
   "cell_type": "code",
   "execution_count": 156,
   "metadata": {},
   "outputs": [
    {
     "name": "stdout",
     "output_type": "stream",
     "text": [
      "       Activity Period  Operating Airline  GEO Summary  GEO Region  \\\n",
      "0               200507                  0            0           0   \n",
      "1               200507                  0            0           0   \n",
      "2               200507                  0            0           0   \n",
      "3               200507                  1            1           1   \n",
      "4               200507                  1            1           1   \n",
      "...                ...                ...          ...         ...   \n",
      "15002           201603                 53            0           0   \n",
      "15003           201603                 53            1           5   \n",
      "15004           201603                 53            1           5   \n",
      "15005           201603                 39            1           3   \n",
      "15006           201603                 39            1           3   \n",
      "\n",
      "       Price Category Code  Terminal Boarding Area  Passenger Count  Year  \\\n",
      "0                        0         0             B            27271  2005   \n",
      "1                        0         0             B            29131  2005   \n",
      "2                        0         0             B             5415  2005   \n",
      "3                        1         0             B            35156  2005   \n",
      "4                        1         0             B            34090  2005   \n",
      "...                    ...       ...           ...              ...   ...   \n",
      "15002                    0         1             D           194636  2016   \n",
      "15003                    0         3             A             4189  2016   \n",
      "15004                    0         1             D             4693  2016   \n",
      "15005                    1         3             A            12313  2016   \n",
      "15006                    1         3             A            10898  2016   \n",
      "\n",
      "       Month  \n",
      "0       July  \n",
      "1       July  \n",
      "2       July  \n",
      "3       July  \n",
      "4       July  \n",
      "...      ...  \n",
      "15002  March  \n",
      "15003  March  \n",
      "15004  March  \n",
      "15005  March  \n",
      "15006  March  \n",
      "\n",
      "[15007 rows x 10 columns]\n"
     ]
    }
   ],
   "source": [
    "#hago lo mismo que con la columna \"GEO Summary\"\n",
    "valores_unicos = df[\"Terminal\"].unique().compute()\n",
    "\n",
    "valores_a_reemplazar = [\"Terminal 1\", \"Terminal 2\", \"Terminal 3\", \"International\", \"Other\"]\n",
    "valores_nuevos = np.arange(len(valores_a_reemplazar), dtype=np.int64)\n",
    "\n",
    "mapping_dict_Terminal = dict(zip(valores_a_reemplazar, valores_nuevos))\n",
    "\n",
    "df[\"Terminal\"] = df[\"Terminal\"].map(mapping_dict_Terminal)\n",
    "\n",
    "df[\"Terminal\"] = df[\"Terminal\"].astype(np.int64)\n",
    "\n",
    "resultado = df.compute()\n",
    "print(resultado)\n"
   ]
  },
  {
   "cell_type": "code",
   "execution_count": 157,
   "metadata": {},
   "outputs": [
    {
     "name": "stdout",
     "output_type": "stream",
     "text": [
      "       Activity Period  Operating Airline  GEO Summary  GEO Region  \\\n",
      "0               200507                  0            0           0   \n",
      "1               200507                  0            0           0   \n",
      "2               200507                  0            0           0   \n",
      "3               200507                  1            1           1   \n",
      "4               200507                  1            1           1   \n",
      "...                ...                ...          ...         ...   \n",
      "15002           201603                 53            0           0   \n",
      "15003           201603                 53            1           5   \n",
      "15004           201603                 53            1           5   \n",
      "15005           201603                 39            1           3   \n",
      "15006           201603                 39            1           3   \n",
      "\n",
      "       Price Category Code  Terminal  Boarding Area  Passenger Count  Year  \\\n",
      "0                        0         0              1            27271  2005   \n",
      "1                        0         0              1            29131  2005   \n",
      "2                        0         0              1             5415  2005   \n",
      "3                        1         0              1            35156  2005   \n",
      "4                        1         0              1            34090  2005   \n",
      "...                    ...       ...            ...              ...   ...   \n",
      "15002                    0         1              3           194636  2016   \n",
      "15003                    0         3              0             4189  2016   \n",
      "15004                    0         1              3             4693  2016   \n",
      "15005                    1         3              0            12313  2016   \n",
      "15006                    1         3              0            10898  2016   \n",
      "\n",
      "       Month  \n",
      "0       July  \n",
      "1       July  \n",
      "2       July  \n",
      "3       July  \n",
      "4       July  \n",
      "...      ...  \n",
      "15002  March  \n",
      "15003  March  \n",
      "15004  March  \n",
      "15005  March  \n",
      "15006  March  \n",
      "\n",
      "[15007 rows x 10 columns]\n"
     ]
    }
   ],
   "source": [
    "#hago lo mismo que con la columna \"GEO Summary\"\n",
    "valores_unicos = df[\"Boarding Area\"].unique().compute()\n",
    "\n",
    "valores_a_reemplazar = [\"A\", \"B\", \"C\", \"D\", \"E\", \"F\", \"G\", \"Other\"]\n",
    "valores_nuevos = np.arange(len(valores_a_reemplazar), dtype=np.int64)\n",
    "\n",
    "mapping_dict_Boarding_Area = dict(zip(valores_a_reemplazar, valores_nuevos))\n",
    "\n",
    "df[\"Boarding Area\"] = df[\"Boarding Area\"].map(mapping_dict_Boarding_Area)\n",
    "\n",
    "df[\"Boarding Area\"] = df[\"Boarding Area\"].astype(np.int64)\n",
    "\n",
    "resultado = df.compute()\n",
    "print(resultado)"
   ]
  },
  {
   "cell_type": "code",
   "execution_count": 158,
   "metadata": {},
   "outputs": [
    {
     "name": "stdout",
     "output_type": "stream",
     "text": [
      "       Activity Period  Operating Airline  GEO Summary  GEO Region  \\\n",
      "0               200507                  0            0           0   \n",
      "1               200507                  0            0           0   \n",
      "2               200507                  0            0           0   \n",
      "3               200507                  1            1           1   \n",
      "4               200507                  1            1           1   \n",
      "...                ...                ...          ...         ...   \n",
      "15002           201603                 53            0           0   \n",
      "15003           201603                 53            1           5   \n",
      "15004           201603                 53            1           5   \n",
      "15005           201603                 39            1           3   \n",
      "15006           201603                 39            1           3   \n",
      "\n",
      "       Price Category Code  Terminal  Boarding Area  Passenger Count  Year  \\\n",
      "0                        0         0              1            27271  2005   \n",
      "1                        0         0              1            29131  2005   \n",
      "2                        0         0              1             5415  2005   \n",
      "3                        1         0              1            35156  2005   \n",
      "4                        1         0              1            34090  2005   \n",
      "...                    ...       ...            ...              ...   ...   \n",
      "15002                    0         1              3           194636  2016   \n",
      "15003                    0         3              0             4189  2016   \n",
      "15004                    0         1              3             4693  2016   \n",
      "15005                    1         3              0            12313  2016   \n",
      "15006                    1         3              0            10898  2016   \n",
      "\n",
      "       Month  \n",
      "0          6  \n",
      "1          6  \n",
      "2          6  \n",
      "3          6  \n",
      "4          6  \n",
      "...      ...  \n",
      "15002      2  \n",
      "15003      2  \n",
      "15004      2  \n",
      "15005      2  \n",
      "15006      2  \n",
      "\n",
      "[15007 rows x 10 columns]\n"
     ]
    }
   ],
   "source": [
    "#hago lo mismo que con la columna \"GEO Summary\"\n",
    "\n",
    "valores_unicos = df[\"Month\"].unique().compute()\n",
    "\n",
    "valores_a_reemplazar = [\"January\", \"February\", \"March\", \"April\", \"May\", \"June\", \"July\", \"August\", \"September\", \"October\", \"November\", \"December\"]\n",
    "valores_nuevos = np.arange(len(valores_a_reemplazar), dtype=np.int64)\n",
    "\n",
    "mapping_dict_Month = dict(zip(valores_a_reemplazar, valores_nuevos))\n",
    "\n",
    "df[\"Month\"] = df[\"Month\"].map(mapping_dict_Month)\n",
    "\n",
    "df[\"Month\"] = df[\"Month\"].astype(np.int64)\n",
    "\n",
    "resultado = df.compute()\n",
    "print(resultado)"
   ]
  },
  {
   "cell_type": "code",
   "execution_count": 159,
   "metadata": {},
   "outputs": [],
   "source": [
    "#para guardar el diccionario \"valor_dict\" uso la libreria pickle, y asi poder cargarlo en otro Jupyter notebook\n",
    "import pickle\n",
    "\n",
    "with open(\"DATOS/lista.pkl\", \"wb\") as archivo:\n",
    "    pickle.dump(valor_dict, archivo)\n",
    "    pickle.dump(mapping_dict_Boarding_Area, archivo)\n",
    "    pickle.dump(mapping_dict_Geo_Region, archivo)\n",
    "    pickle.dump(mapping_dict_Geo_Summary, archivo)\n",
    "    pickle.dump(mapping_dict_Month, archivo)\n",
    "    pickle.dump(mapping_dict_Price_Category_Code, archivo)\n",
    "    pickle.dump(mapping_dict_Terminal, archivo)\n"
   ]
  },
  {
   "cell_type": "code",
   "execution_count": 160,
   "metadata": {},
   "outputs": [
    {
     "data": {
      "text/plain": [
       "Activity Period        int64\n",
       "Operating Airline      int64\n",
       "GEO Summary            int64\n",
       "GEO Region             int64\n",
       "Price Category Code    int64\n",
       "Terminal               int64\n",
       "Boarding Area          int64\n",
       "Passenger Count        int64\n",
       "Year                   int64\n",
       "Month                  int64\n",
       "dtype: object"
      ]
     },
     "execution_count": 160,
     "metadata": {},
     "output_type": "execute_result"
    }
   ],
   "source": [
    "#comprobamos que todos los tipos sean de timpo int\n",
    "df.dtypes"
   ]
  },
  {
   "cell_type": "code",
   "execution_count": 161,
   "metadata": {},
   "outputs": [
    {
     "name": "stdout",
     "output_type": "stream",
     "text": [
      "Número de valores NaN por columna:\n",
      "Activity Period        0\n",
      "Operating Airline      0\n",
      "GEO Summary            0\n",
      "GEO Region             0\n",
      "Price Category Code    0\n",
      "Terminal               0\n",
      "Boarding Area          0\n",
      "Passenger Count        0\n",
      "Year                   0\n",
      "Month                  0\n",
      "dtype: int64\n"
     ]
    }
   ],
   "source": [
    "# compruebo si hay valores Nan en cada columna\n",
    "num_nulos_por_columna = df.isna().sum()\n",
    "\n",
    "# imprimo la suma de los valores Nan\n",
    "resultado = num_nulos_por_columna.compute()\n",
    "print(\"Número de valores NaN por columna:\")\n",
    "print(resultado)"
   ]
  },
  {
   "cell_type": "code",
   "execution_count": 162,
   "metadata": {},
   "outputs": [
    {
     "data": {
      "text/plain": [
       "['c:\\\\Users\\\\smite\\\\Documents\\\\GitHub\\\\Trabajo-Final-Programacion-Paralela\\\\DATOS\\\\air_traffic_data_limpio.csv']"
      ]
     },
     "execution_count": 162,
     "metadata": {},
     "output_type": "execute_result"
    }
   ],
   "source": [
    "#Como no hay valores nulos el dataset estaria ya preparado para analizarlo\n",
    "#hago una copia del dataset limpio\n",
    "df.to_csv(\"DATOS/air_traffic_data_limpio.csv\", index=False, single_file=True)"
   ]
  }
 ],
 "metadata": {
  "kernelspec": {
   "display_name": "Python 3",
   "language": "python",
   "name": "python3"
  },
  "language_info": {
   "codemirror_mode": {
    "name": "ipython",
    "version": 3
   },
   "file_extension": ".py",
   "mimetype": "text/x-python",
   "name": "python",
   "nbconvert_exporter": "python",
   "pygments_lexer": "ipython3",
   "version": "3.10.11"
  },
  "orig_nbformat": 4
 },
 "nbformat": 4,
 "nbformat_minor": 2
}
