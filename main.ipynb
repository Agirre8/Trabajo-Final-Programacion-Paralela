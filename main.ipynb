{
 "cells": [
  {
   "cell_type": "code",
   "execution_count": 8,
   "metadata": {},
   "outputs": [],
   "source": [
    "import dask.dataframe as dd\n"
   ]
  },
  {
   "cell_type": "code",
   "execution_count": 9,
   "metadata": {},
   "outputs": [],
   "source": [
    "df = dd.read_csv('air_traffic_data.csv')"
   ]
  },
  {
   "cell_type": "code",
   "execution_count": 10,
   "metadata": {},
   "outputs": [
    {
     "name": "stdout",
     "output_type": "stream",
     "text": [
      "   Activity Period Operating Airline Operating Airline IATA Code  \\\n",
      "0           200507      ATA Airlines                          TZ   \n",
      "1           200507      ATA Airlines                          TZ   \n",
      "2           200507      ATA Airlines                          TZ   \n",
      "3           200507       Air Canada                           AC   \n",
      "4           200507       Air Canada                           AC   \n",
      "\n",
      "  Published Airline Published Airline IATA Code    GEO Summary GEO Region  \\\n",
      "0      ATA Airlines                          TZ       Domestic         US   \n",
      "1      ATA Airlines                          TZ       Domestic         US   \n",
      "2      ATA Airlines                          TZ       Domestic         US   \n",
      "3       Air Canada                           AC  International     Canada   \n",
      "4       Air Canada                           AC  International     Canada   \n",
      "\n",
      "  Activity Type Code Price Category Code    Terminal Boarding Area  \\\n",
      "0           Deplaned            Low Fare  Terminal 1             B   \n",
      "1           Enplaned            Low Fare  Terminal 1             B   \n",
      "2     Thru / Transit            Low Fare  Terminal 1             B   \n",
      "3           Deplaned               Other  Terminal 1             B   \n",
      "4           Enplaned               Other  Terminal 1             B   \n",
      "\n",
      "   Passenger Count Adjusted Activity Type Code  Adjusted Passenger Count  \\\n",
      "0            27271                    Deplaned                     27271   \n",
      "1            29131                    Enplaned                     29131   \n",
      "2             5415          Thru / Transit * 2                     10830   \n",
      "3            35156                    Deplaned                     35156   \n",
      "4            34090                    Enplaned                     34090   \n",
      "\n",
      "   Year Month  \n",
      "0  2005  July  \n",
      "1  2005  July  \n",
      "2  2005  July  \n",
      "3  2005  July  \n",
      "4  2005  July  \n"
     ]
    }
   ],
   "source": [
    "print(df.head())"
   ]
  }
 ],
 "metadata": {
  "kernelspec": {
   "display_name": "Python 3",
   "language": "python",
   "name": "python3"
  },
  "language_info": {
   "codemirror_mode": {
    "name": "ipython",
    "version": 3
   },
   "file_extension": ".py",
   "mimetype": "text/x-python",
   "name": "python",
   "nbconvert_exporter": "python",
   "pygments_lexer": "ipython3",
   "version": "3.10.11"
  },
  "orig_nbformat": 4
 },
 "nbformat": 4,
 "nbformat_minor": 2
}
